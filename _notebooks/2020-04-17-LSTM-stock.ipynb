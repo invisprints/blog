{
 "cells": [
  {
   "cell_type": "markdown",
   "metadata": {},
   "source": [
    "# LSTM 模型预测 A 股走势\n",
    "> Pytorch 版 LSTM 模型预测 A 股走势\n",
    "\n",
    "- toc: true \n",
    "- badges: true\n",
    "- comments: true\n",
    "- categories: [pytorch, stock, lstm]\n",
    "- image: images/stock.png"
   ]
  },
  {
   "cell_type": "markdown",
   "metadata": {
    "colab_type": "text",
    "id": "yfttyNCKhb98"
   },
   "source": [
    "# LSTM 模型预测 A 股走势"
   ]
  },
  {
   "cell_type": "markdown",
   "metadata": {
    "colab_type": "text",
    "id": "6w0xjR-MviKB"
   },
   "source": [
    "这几天闲来无事，看网上很多人都在评论股市的起起伏伏，于是心血来潮，想用深度学习看看能否预测股票走势。由于之前研究方向都是 CV 和 NAS，也想借用这个机会深入了解下 RNN 这个派系是怎么回事。 "
   ]
  },
  {
   "cell_type": "markdown",
   "metadata": {},
   "source": [
    "数日后\n",
    "\n",
    "---\n",
    "\n",
    "经过我多日的观察，LSTM 似乎并不能预测 A 股走势。当然由于我在这方面还是初学者，所以代码有可能存在问题，欢迎大家指出！"
   ]
  },
  {
   "cell_type": "markdown",
   "metadata": {},
   "source": [
    "## 下载数据集\n",
    "证券宝 www.baostock.com 是一个免费、开源的证券数据平台（无需注册）。其优点请访问[官网](http://baostock.com/baostock/index.php/首页)\n",
    "\n",
    "取消下面代码注释来安装 baostock 库"
   ]
  },
  {
   "cell_type": "code",
   "execution_count": 1,
   "metadata": {
    "colab": {
     "base_uri": "https://localhost:8080/",
     "height": 204
    },
    "colab_type": "code",
    "id": "1AslZnlIw6Po",
    "outputId": "1d88ff90-befc-4fa1-be7e-ff6ae57b5024"
   },
   "outputs": [],
   "source": [
    "# !pip install baostock -i https://pypi.tuna.tsinghua.edu.cn/simple/ --trusted-host pypi.tuna.tsinghua.edu.cn"
   ]
  },
  {
   "cell_type": "markdown",
   "metadata": {},
   "source": [
    "按照官网教程下载一只股票的k线数据，这里取sz.002648 15年以后的数据。"
   ]
  },
  {
   "cell_type": "code",
   "execution_count": 2,
   "metadata": {
    "colab": {
     "base_uri": "https://localhost:8080/",
     "height": 374
    },
    "colab_type": "code",
    "id": "cK8I0EpZwHIb",
    "outputId": "3da5007d-95ca-4620-c099-86d7b5e6fd71"
   },
   "outputs": [
    {
     "name": "stdout",
     "output_type": "stream",
     "text": [
      "login success!\n",
      "            date       code     open     high      low    close preclose  \\\n",
      "0     2015-01-05  sz.002648  12.0400  12.4700  11.8000  12.2200  12.1000   \n",
      "1     2015-01-06  sz.002648  12.2000  12.3600  12.0000  12.2900  12.2200   \n",
      "2     2015-01-07  sz.002648  12.2900  12.5600  12.2500  12.4000  12.2900   \n",
      "3     2015-01-08  sz.002648  12.4300  12.6300  12.3000  12.4700  12.4000   \n",
      "4     2015-01-09  sz.002648  12.4600  12.7400  12.3900  12.4100  12.4700   \n",
      "...          ...        ...      ...      ...      ...      ...      ...   \n",
      "1281  2020-04-08  sz.002648  13.7400  14.1200  13.6500  13.9700  13.8400   \n",
      "1282  2020-04-09  sz.002648  14.0800  14.2900  14.0300  14.1800  13.9700   \n",
      "1283  2020-04-10  sz.002648  14.0500  14.0500  13.5400  13.7600  14.1800   \n",
      "1284  2020-04-13  sz.002648  14.1900  15.1400  14.0000  14.9600  13.7600   \n",
      "1285  2020-04-14  sz.002648  15.0600  15.2000  14.8000  14.8900  14.9600   \n",
      "\n",
      "        volume          amount adjustflag      turn tradestatus     pctChg  \\\n",
      "0     16718083  201474357.0000          3  2.089760           1   0.991700   \n",
      "1      7965196   97122442.0000          3  0.995649           1   0.572800   \n",
      "2      7684398   95370790.0000          3  0.960550           1   0.895000   \n",
      "3      8056201  100447582.0000          3  1.007025           1   0.564500   \n",
      "4      7648582   96383568.0000          3  0.956073           1  -0.481200   \n",
      "...        ...             ...        ...       ...         ...        ...   \n",
      "1281  15477705  214734917.0800          3  1.490800           1   0.939300   \n",
      "1282  16011717  226975113.8300          3  1.542300           1   1.503200   \n",
      "1283  17320147  238855999.3500          3  1.669400           1  -2.961900   \n",
      "1284  56552045  834440561.6200          3  5.450700           1   8.720900   \n",
      "1285  42736530  638906444.8700          3  4.119100           1  -0.467900   \n",
      "\n",
      "     isST  \n",
      "0       0  \n",
      "1       0  \n",
      "2       0  \n",
      "3       0  \n",
      "4       0  \n",
      "...   ...  \n",
      "1281    0  \n",
      "1282    0  \n",
      "1283    0  \n",
      "1284    0  \n",
      "1285    0  \n",
      "\n",
      "[1286 rows x 14 columns]\n",
      "logout success!\n"
     ]
    },
    {
     "data": {
      "text/plain": [
       "<baostock.data.resultset.ResultData at 0x11cdb33d0>"
      ]
     },
     "execution_count": 2,
     "metadata": {},
     "output_type": "execute_result"
    }
   ],
   "source": [
    "import baostock as bs\n",
    "import pandas as pd\n",
    "\n",
    "#### 登陆系统 ####\n",
    "lg = bs.login()\n",
    "\n",
    "#### 获取沪深A股历史K线数据 ####\n",
    "# 详细指标参数，参见“历史行情指标参数”章节；“分钟线”参数与“日线”参数不同。\n",
    "# 分钟线指标：date,time,code,open,high,low,close,volume,amount,adjustflag\n",
    "rs = bs.query_history_k_data_plus(\"sz.002648\",\n",
    "    \"date,code,open,high,low,close,preclose,volume,amount,adjustflag,turn,tradestatus,pctChg,isST\",\n",
    "    start_date='2015-01-01', end_date='2020-4-14',\n",
    "    frequency=\"d\", adjustflag=\"3\")\n",
    "\n",
    "#### 打印结果集 ####\n",
    "data_list = []\n",
    "while (rs.error_code == '0') & rs.next():\n",
    "    # 获取一条记录，将记录合并在一起\n",
    "    data_list.append(rs.get_row_data())\n",
    "df = pd.DataFrame(data_list, columns=rs.fields)\n",
    "\n",
    "#### 结果集输出到csv文件 ####   \n",
    "# result.to_csv(\"D:\\\\history_A_stock_k_data.csv\", index=False)\n",
    "print(df)\n",
    "\n",
    "#### 登出系统 ####\n",
    "bs.logout()"
   ]
  },
  {
   "cell_type": "markdown",
   "metadata": {},
   "source": [
    "下载的数据都是以字符串形式保存的，我们把需要的数据转换成整数和浮点数"
   ]
  },
  {
   "cell_type": "code",
   "execution_count": 3,
   "metadata": {
    "colab": {
     "base_uri": "https://localhost:8080/",
     "height": 500
    },
    "colab_type": "code",
    "id": "qNihlAB2xMXV",
    "outputId": "75b94c9e-30fc-4f97-8e7b-58817c464179"
   },
   "outputs": [],
   "source": [
    "float_type = ['open','high','low','close','preclose','amount','pctChg']\n",
    "\n",
    "for item in float_type:\n",
    "    df[item] = df[item].astype('float')\n",
    "\n",
    "df['amount'] = df['amount'].astype('int')\n",
    "df['volume'] = df['volume'].astype('int')\n",
    "df['turn'] = [0 if x == \"\" else float(x) for x in df[\"turn\"]]\n",
    "df['buy_flag'] = 10\n",
    "\n",
    "# df.tail()"
   ]
  },
  {
   "cell_type": "markdown",
   "metadata": {},
   "source": [
    "## 处理数据集\n",
    "用 LSTM 预测价格显示是不合理的，因为价格的波动非常不可控，所以我们退而求其次，预测股票的走势，即涨还是跌。\n",
    "\n",
    "但是怎么量化股票的涨跌是个问题，本人之前完全没接触过股票，所以这里就想当然用未来数天的平均股价表示股票的起伏。"
   ]
  },
  {
   "cell_type": "code",
   "execution_count": 4,
   "metadata": {
    "colab": {},
    "colab_type": "code",
    "id": "Qz6oiFKex1Il"
   },
   "outputs": [],
   "source": [
    "#未来n天移动平均，包含今天\n",
    "def MA_next(df, date_idx, price_type, n): \n",
    "    return df[price_type][date_idx:date_idx+n].mean()"
   ]
  },
  {
   "cell_type": "markdown",
   "metadata": {},
   "source": [
    "假设短期2天，中期6天，长期15天。如果未来15天平均价格大于未来6天平均价格大于未来2天平均价格，我们就可认为未来15天的股市走势很好。\n",
    "这里还要求有3%的涨幅，能一定程度上减少标签频繁波动。\n",
    "\n",
    "'2'含义为买入，'0'含义为卖出，'1'为默认值"
   ]
  },
  {
   "cell_type": "code",
   "execution_count": 5,
   "metadata": {},
   "outputs": [
    {
     "data": {
      "text/html": [
       "<div>\n",
       "<style scoped>\n",
       "    .dataframe tbody tr th:only-of-type {\n",
       "        vertical-align: middle;\n",
       "    }\n",
       "\n",
       "    .dataframe tbody tr th {\n",
       "        vertical-align: top;\n",
       "    }\n",
       "\n",
       "    .dataframe thead th {\n",
       "        text-align: right;\n",
       "    }\n",
       "</style>\n",
       "<table border=\"1\" class=\"dataframe\">\n",
       "  <thead>\n",
       "    <tr style=\"text-align: right;\">\n",
       "      <th></th>\n",
       "      <th>date</th>\n",
       "      <th>code</th>\n",
       "      <th>open</th>\n",
       "      <th>high</th>\n",
       "      <th>low</th>\n",
       "      <th>close</th>\n",
       "      <th>preclose</th>\n",
       "      <th>volume</th>\n",
       "      <th>amount</th>\n",
       "      <th>adjustflag</th>\n",
       "      <th>turn</th>\n",
       "      <th>tradestatus</th>\n",
       "      <th>pctChg</th>\n",
       "      <th>isST</th>\n",
       "      <th>buy_flag</th>\n",
       "    </tr>\n",
       "  </thead>\n",
       "  <tbody>\n",
       "    <tr>\n",
       "      <th>1281</th>\n",
       "      <td>2020-04-08</td>\n",
       "      <td>sz.002648</td>\n",
       "      <td>13.74</td>\n",
       "      <td>14.12</td>\n",
       "      <td>13.65</td>\n",
       "      <td>13.97</td>\n",
       "      <td>13.84</td>\n",
       "      <td>15477705</td>\n",
       "      <td>214734917</td>\n",
       "      <td>3</td>\n",
       "      <td>1.4908</td>\n",
       "      <td>1</td>\n",
       "      <td>0.9393</td>\n",
       "      <td>0</td>\n",
       "      <td>10.0</td>\n",
       "    </tr>\n",
       "    <tr>\n",
       "      <th>1282</th>\n",
       "      <td>2020-04-09</td>\n",
       "      <td>sz.002648</td>\n",
       "      <td>14.08</td>\n",
       "      <td>14.29</td>\n",
       "      <td>14.03</td>\n",
       "      <td>14.18</td>\n",
       "      <td>13.97</td>\n",
       "      <td>16011717</td>\n",
       "      <td>226975113</td>\n",
       "      <td>3</td>\n",
       "      <td>1.5423</td>\n",
       "      <td>1</td>\n",
       "      <td>1.5032</td>\n",
       "      <td>0</td>\n",
       "      <td>10.0</td>\n",
       "    </tr>\n",
       "    <tr>\n",
       "      <th>1283</th>\n",
       "      <td>2020-04-10</td>\n",
       "      <td>sz.002648</td>\n",
       "      <td>14.05</td>\n",
       "      <td>14.05</td>\n",
       "      <td>13.54</td>\n",
       "      <td>13.76</td>\n",
       "      <td>14.18</td>\n",
       "      <td>17320147</td>\n",
       "      <td>238855999</td>\n",
       "      <td>3</td>\n",
       "      <td>1.6694</td>\n",
       "      <td>1</td>\n",
       "      <td>-2.9619</td>\n",
       "      <td>0</td>\n",
       "      <td>10.0</td>\n",
       "    </tr>\n",
       "    <tr>\n",
       "      <th>1284</th>\n",
       "      <td>2020-04-13</td>\n",
       "      <td>sz.002648</td>\n",
       "      <td>14.19</td>\n",
       "      <td>15.14</td>\n",
       "      <td>14.00</td>\n",
       "      <td>14.96</td>\n",
       "      <td>13.76</td>\n",
       "      <td>56552045</td>\n",
       "      <td>834440561</td>\n",
       "      <td>3</td>\n",
       "      <td>5.4507</td>\n",
       "      <td>1</td>\n",
       "      <td>8.7209</td>\n",
       "      <td>0</td>\n",
       "      <td>10.0</td>\n",
       "    </tr>\n",
       "    <tr>\n",
       "      <th>1285</th>\n",
       "      <td>2020-04-14</td>\n",
       "      <td>sz.002648</td>\n",
       "      <td>15.06</td>\n",
       "      <td>15.20</td>\n",
       "      <td>14.80</td>\n",
       "      <td>14.89</td>\n",
       "      <td>14.96</td>\n",
       "      <td>42736530</td>\n",
       "      <td>638906444</td>\n",
       "      <td>3</td>\n",
       "      <td>4.1191</td>\n",
       "      <td>1</td>\n",
       "      <td>-0.4679</td>\n",
       "      <td>0</td>\n",
       "      <td>10.0</td>\n",
       "    </tr>\n",
       "  </tbody>\n",
       "</table>\n",
       "</div>"
      ],
      "text/plain": [
       "            date       code   open   high    low  close  preclose    volume  \\\n",
       "1281  2020-04-08  sz.002648  13.74  14.12  13.65  13.97     13.84  15477705   \n",
       "1282  2020-04-09  sz.002648  14.08  14.29  14.03  14.18     13.97  16011717   \n",
       "1283  2020-04-10  sz.002648  14.05  14.05  13.54  13.76     14.18  17320147   \n",
       "1284  2020-04-13  sz.002648  14.19  15.14  14.00  14.96     13.76  56552045   \n",
       "1285  2020-04-14  sz.002648  15.06  15.20  14.80  14.89     14.96  42736530   \n",
       "\n",
       "         amount adjustflag    turn tradestatus  pctChg isST  buy_flag  \n",
       "1281  214734917          3  1.4908           1  0.9393    0      10.0  \n",
       "1282  226975113          3  1.5423           1  1.5032    0      10.0  \n",
       "1283  238855999          3  1.6694           1 -2.9619    0      10.0  \n",
       "1284  834440561          3  5.4507           1  8.7209    0      10.0  \n",
       "1285  638906444          3  4.1191           1 -0.4679    0      10.0  "
      ]
     },
     "execution_count": 5,
     "metadata": {},
     "output_type": "execute_result"
    }
   ],
   "source": [
    "s_time = 2\n",
    "m_time = 6\n",
    "l_time = 15\n",
    "\n",
    "for i in range(len(df)-l_time):\n",
    "    if MA_next(df,i,'close',l_time)>MA_next(df,i,'close',m_time)*1.03>MA_next(df,i,'close',s_time)*1.03:\n",
    "        df.loc[i, 'buy_flag'] = 2\n",
    "    elif MA_next(df,i,'close',s_time)>MA_next(df,i,'close',m_time):\n",
    "        df.loc[i, 'buy_flag'] = 0\n",
    "    else:\n",
    "        df.loc[i, 'buy_flag'] = 1\n",
    "        df.loc[i, 'buy_flag'] = 1 + (MA_next(df,i,'close',m_time)-MA_next(df,i,'close',s_time))/MA_next(df,i,'close',s_time)\n",
    "#     df.loc[i, 'buy_flag'] = 10*(MA_next(df,i,'close',m_time)+MA_next(df,i,'close',l_time)-2*MA_next(df,i,'close',s_time))/MA_next(df,i,'close',s_time)\n",
    "        \n",
    "df.tail()"
   ]
  },
  {
   "cell_type": "markdown",
   "metadata": {},
   "source": [
    "## 可视化\n",
    "使用 plotly 绘图"
   ]
  },
  {
   "cell_type": "code",
   "execution_count": 6,
   "metadata": {},
   "outputs": [
    {
     "data": {
      "text/html": [
       "\n",
       "        <iframe\n",
       "            width=\"100%\"\n",
       "            height=\"525px\"\n",
       "            src=\"https://plotly.com/~invisprints/21.embed\"\n",
       "            frameborder=\"0\"\n",
       "            allowfullscreen\n",
       "        ></iframe>\n",
       "        "
      ],
      "text/plain": [
       "<IPython.lib.display.IFrame at 0x120543250>"
      ]
     },
     "execution_count": 6,
     "metadata": {},
     "output_type": "execute_result"
    }
   ],
   "source": [
    "import plotly.graph_objects as go\n",
    "# from IPython.display import HTML\n",
    "import chart_studio.plotly as py\n",
    "\n",
    "fig = go.Figure(data=[go.Candlestick(x=df['date'],\n",
    "                open=df['open'], high=df['high'],\n",
    "                low=df['low'], close=df['close'],\n",
    "                increasing_line_color= 'red', decreasing_line_color= 'green')\n",
    "                     ])\n",
    "\n",
    "fig.add_trace(go.Scatter(x=df['date'],y=df['buy_flag'], name='Flag'))\n",
    "\n",
    "fig.update_layout(\n",
    "    xaxis_range=['2017-01-01','2019-12-31'],\n",
    "    yaxis_title='Price',\n",
    "#     xaxis_rangeslider_visible=False,\n",
    ")\n",
    "\n",
    "py.iplot(fig, filename=\"stock-price\")"
   ]
  },
  {
   "cell_type": "markdown",
   "metadata": {},
   "source": [
    "在 Fast.ai Part 1 课程中，提到一个能扩展日期特征的函数`add_datepart`，该函数能计算当前日期的年、月、日、一周第几天、周数、月初月末、一年当中的第几天等信息。我们用该函数扩展日期特征。"
   ]
  },
  {
   "cell_type": "code",
   "execution_count": 7,
   "metadata": {},
   "outputs": [
    {
     "data": {
      "text/html": [
       "<div>\n",
       "<style scoped>\n",
       "    .dataframe tbody tr th:only-of-type {\n",
       "        vertical-align: middle;\n",
       "    }\n",
       "\n",
       "    .dataframe tbody tr th {\n",
       "        vertical-align: top;\n",
       "    }\n",
       "\n",
       "    .dataframe thead th {\n",
       "        text-align: right;\n",
       "    }\n",
       "</style>\n",
       "<table border=\"1\" class=\"dataframe\">\n",
       "  <thead>\n",
       "    <tr style=\"text-align: right;\">\n",
       "      <th></th>\n",
       "      <th>open</th>\n",
       "      <th>high</th>\n",
       "      <th>low</th>\n",
       "      <th>close</th>\n",
       "      <th>preclose</th>\n",
       "      <th>volume</th>\n",
       "      <th>amount</th>\n",
       "      <th>adjustflag</th>\n",
       "      <th>turn</th>\n",
       "      <th>tradestatus</th>\n",
       "      <th>pctChg</th>\n",
       "      <th>isST</th>\n",
       "      <th>buy_flag</th>\n",
       "      <th>Year</th>\n",
       "      <th>Month</th>\n",
       "      <th>Week</th>\n",
       "      <th>Day</th>\n",
       "      <th>Dayofweek</th>\n",
       "      <th>Elapsed</th>\n",
       "    </tr>\n",
       "  </thead>\n",
       "  <tbody>\n",
       "    <tr>\n",
       "      <th>90</th>\n",
       "      <td>16.15</td>\n",
       "      <td>16.85</td>\n",
       "      <td>16.07</td>\n",
       "      <td>16.28</td>\n",
       "      <td>16.19</td>\n",
       "      <td>20654461</td>\n",
       "      <td>340943328</td>\n",
       "      <td>3</td>\n",
       "      <td>2.581808</td>\n",
       "      <td>1</td>\n",
       "      <td>0.5559</td>\n",
       "      <td>0</td>\n",
       "      <td>2.000000</td>\n",
       "      <td>2015</td>\n",
       "      <td>5</td>\n",
       "      <td>21</td>\n",
       "      <td>20</td>\n",
       "      <td>2</td>\n",
       "      <td>1432080000</td>\n",
       "    </tr>\n",
       "    <tr>\n",
       "      <th>91</th>\n",
       "      <td>16.45</td>\n",
       "      <td>16.84</td>\n",
       "      <td>16.30</td>\n",
       "      <td>16.81</td>\n",
       "      <td>16.28</td>\n",
       "      <td>21049050</td>\n",
       "      <td>349775744</td>\n",
       "      <td>3</td>\n",
       "      <td>2.631131</td>\n",
       "      <td>1</td>\n",
       "      <td>3.2555</td>\n",
       "      <td>0</td>\n",
       "      <td>2.000000</td>\n",
       "      <td>2015</td>\n",
       "      <td>5</td>\n",
       "      <td>21</td>\n",
       "      <td>21</td>\n",
       "      <td>3</td>\n",
       "      <td>1432166400</td>\n",
       "    </tr>\n",
       "    <tr>\n",
       "      <th>92</th>\n",
       "      <td>16.91</td>\n",
       "      <td>17.50</td>\n",
       "      <td>16.72</td>\n",
       "      <td>17.25</td>\n",
       "      <td>16.81</td>\n",
       "      <td>26445834</td>\n",
       "      <td>455184800</td>\n",
       "      <td>3</td>\n",
       "      <td>3.305729</td>\n",
       "      <td>1</td>\n",
       "      <td>2.6175</td>\n",
       "      <td>0</td>\n",
       "      <td>2.000000</td>\n",
       "      <td>2015</td>\n",
       "      <td>5</td>\n",
       "      <td>21</td>\n",
       "      <td>22</td>\n",
       "      <td>4</td>\n",
       "      <td>1432252800</td>\n",
       "    </tr>\n",
       "    <tr>\n",
       "      <th>93</th>\n",
       "      <td>17.20</td>\n",
       "      <td>17.72</td>\n",
       "      <td>16.93</td>\n",
       "      <td>17.52</td>\n",
       "      <td>17.25</td>\n",
       "      <td>25543119</td>\n",
       "      <td>444374592</td>\n",
       "      <td>3</td>\n",
       "      <td>3.192890</td>\n",
       "      <td>1</td>\n",
       "      <td>1.5652</td>\n",
       "      <td>0</td>\n",
       "      <td>1.070076</td>\n",
       "      <td>2015</td>\n",
       "      <td>5</td>\n",
       "      <td>22</td>\n",
       "      <td>25</td>\n",
       "      <td>0</td>\n",
       "      <td>1432512000</td>\n",
       "    </tr>\n",
       "    <tr>\n",
       "      <th>94</th>\n",
       "      <td>17.78</td>\n",
       "      <td>17.82</td>\n",
       "      <td>17.26</td>\n",
       "      <td>17.68</td>\n",
       "      <td>17.52</td>\n",
       "      <td>23197897</td>\n",
       "      <td>407829184</td>\n",
       "      <td>3</td>\n",
       "      <td>2.899737</td>\n",
       "      <td>1</td>\n",
       "      <td>0.9132</td>\n",
       "      <td>0</td>\n",
       "      <td>1.031780</td>\n",
       "      <td>2015</td>\n",
       "      <td>5</td>\n",
       "      <td>22</td>\n",
       "      <td>26</td>\n",
       "      <td>1</td>\n",
       "      <td>1432598400</td>\n",
       "    </tr>\n",
       "    <tr>\n",
       "      <th>...</th>\n",
       "      <td>...</td>\n",
       "      <td>...</td>\n",
       "      <td>...</td>\n",
       "      <td>...</td>\n",
       "      <td>...</td>\n",
       "      <td>...</td>\n",
       "      <td>...</td>\n",
       "      <td>...</td>\n",
       "      <td>...</td>\n",
       "      <td>...</td>\n",
       "      <td>...</td>\n",
       "      <td>...</td>\n",
       "      <td>...</td>\n",
       "      <td>...</td>\n",
       "      <td>...</td>\n",
       "      <td>...</td>\n",
       "      <td>...</td>\n",
       "      <td>...</td>\n",
       "      <td>...</td>\n",
       "    </tr>\n",
       "    <tr>\n",
       "      <th>1191</th>\n",
       "      <td>14.22</td>\n",
       "      <td>14.35</td>\n",
       "      <td>13.77</td>\n",
       "      <td>13.86</td>\n",
       "      <td>14.10</td>\n",
       "      <td>13857446</td>\n",
       "      <td>193912775</td>\n",
       "      <td>3</td>\n",
       "      <td>1.334800</td>\n",
       "      <td>1</td>\n",
       "      <td>-1.7021</td>\n",
       "      <td>0</td>\n",
       "      <td>1.014370</td>\n",
       "      <td>2019</td>\n",
       "      <td>11</td>\n",
       "      <td>47</td>\n",
       "      <td>22</td>\n",
       "      <td>4</td>\n",
       "      <td>1574380800</td>\n",
       "    </tr>\n",
       "    <tr>\n",
       "      <th>1192</th>\n",
       "      <td>13.92</td>\n",
       "      <td>14.62</td>\n",
       "      <td>13.91</td>\n",
       "      <td>14.44</td>\n",
       "      <td>13.86</td>\n",
       "      <td>33019563</td>\n",
       "      <td>474715627</td>\n",
       "      <td>3</td>\n",
       "      <td>3.180500</td>\n",
       "      <td>1</td>\n",
       "      <td>4.1847</td>\n",
       "      <td>0</td>\n",
       "      <td>1.012324</td>\n",
       "      <td>2019</td>\n",
       "      <td>11</td>\n",
       "      <td>48</td>\n",
       "      <td>25</td>\n",
       "      <td>0</td>\n",
       "      <td>1574640000</td>\n",
       "    </tr>\n",
       "    <tr>\n",
       "      <th>1193</th>\n",
       "      <td>14.47</td>\n",
       "      <td>14.56</td>\n",
       "      <td>14.23</td>\n",
       "      <td>14.23</td>\n",
       "      <td>14.44</td>\n",
       "      <td>14896110</td>\n",
       "      <td>213625282</td>\n",
       "      <td>3</td>\n",
       "      <td>1.434800</td>\n",
       "      <td>1</td>\n",
       "      <td>-1.4543</td>\n",
       "      <td>0</td>\n",
       "      <td>1.028050</td>\n",
       "      <td>2019</td>\n",
       "      <td>11</td>\n",
       "      <td>48</td>\n",
       "      <td>26</td>\n",
       "      <td>1</td>\n",
       "      <td>1574726400</td>\n",
       "    </tr>\n",
       "    <tr>\n",
       "      <th>1194</th>\n",
       "      <td>14.18</td>\n",
       "      <td>14.54</td>\n",
       "      <td>14.01</td>\n",
       "      <td>14.29</td>\n",
       "      <td>14.23</td>\n",
       "      <td>16550049</td>\n",
       "      <td>236702541</td>\n",
       "      <td>3</td>\n",
       "      <td>1.594100</td>\n",
       "      <td>1</td>\n",
       "      <td>0.4216</td>\n",
       "      <td>0</td>\n",
       "      <td>1.031558</td>\n",
       "      <td>2019</td>\n",
       "      <td>11</td>\n",
       "      <td>48</td>\n",
       "      <td>27</td>\n",
       "      <td>2</td>\n",
       "      <td>1574812800</td>\n",
       "    </tr>\n",
       "    <tr>\n",
       "      <th>1195</th>\n",
       "      <td>14.28</td>\n",
       "      <td>14.76</td>\n",
       "      <td>14.21</td>\n",
       "      <td>14.44</td>\n",
       "      <td>14.29</td>\n",
       "      <td>16324504</td>\n",
       "      <td>236742107</td>\n",
       "      <td>3</td>\n",
       "      <td>1.572400</td>\n",
       "      <td>1</td>\n",
       "      <td>1.0497</td>\n",
       "      <td>0</td>\n",
       "      <td>1.021047</td>\n",
       "      <td>2019</td>\n",
       "      <td>11</td>\n",
       "      <td>48</td>\n",
       "      <td>28</td>\n",
       "      <td>3</td>\n",
       "      <td>1574899200</td>\n",
       "    </tr>\n",
       "  </tbody>\n",
       "</table>\n",
       "<p>1106 rows × 19 columns</p>\n",
       "</div>"
      ],
      "text/plain": [
       "       open   high    low  close  preclose    volume     amount adjustflag  \\\n",
       "90    16.15  16.85  16.07  16.28     16.19  20654461  340943328          3   \n",
       "91    16.45  16.84  16.30  16.81     16.28  21049050  349775744          3   \n",
       "92    16.91  17.50  16.72  17.25     16.81  26445834  455184800          3   \n",
       "93    17.20  17.72  16.93  17.52     17.25  25543119  444374592          3   \n",
       "94    17.78  17.82  17.26  17.68     17.52  23197897  407829184          3   \n",
       "...     ...    ...    ...    ...       ...       ...        ...        ...   \n",
       "1191  14.22  14.35  13.77  13.86     14.10  13857446  193912775          3   \n",
       "1192  13.92  14.62  13.91  14.44     13.86  33019563  474715627          3   \n",
       "1193  14.47  14.56  14.23  14.23     14.44  14896110  213625282          3   \n",
       "1194  14.18  14.54  14.01  14.29     14.23  16550049  236702541          3   \n",
       "1195  14.28  14.76  14.21  14.44     14.29  16324504  236742107          3   \n",
       "\n",
       "          turn tradestatus  pctChg isST  buy_flag  Year  Month  Week  Day  \\\n",
       "90    2.581808           1  0.5559    0  2.000000  2015      5    21   20   \n",
       "91    2.631131           1  3.2555    0  2.000000  2015      5    21   21   \n",
       "92    3.305729           1  2.6175    0  2.000000  2015      5    21   22   \n",
       "93    3.192890           1  1.5652    0  1.070076  2015      5    22   25   \n",
       "94    2.899737           1  0.9132    0  1.031780  2015      5    22   26   \n",
       "...        ...         ...     ...  ...       ...   ...    ...   ...  ...   \n",
       "1191  1.334800           1 -1.7021    0  1.014370  2019     11    47   22   \n",
       "1192  3.180500           1  4.1847    0  1.012324  2019     11    48   25   \n",
       "1193  1.434800           1 -1.4543    0  1.028050  2019     11    48   26   \n",
       "1194  1.594100           1  0.4216    0  1.031558  2019     11    48   27   \n",
       "1195  1.572400           1  1.0497    0  1.021047  2019     11    48   28   \n",
       "\n",
       "      Dayofweek     Elapsed  \n",
       "90            2  1432080000  \n",
       "91            3  1432166400  \n",
       "92            4  1432252800  \n",
       "93            0  1432512000  \n",
       "94            1  1432598400  \n",
       "...         ...         ...  \n",
       "1191          4  1574380800  \n",
       "1192          0  1574640000  \n",
       "1193          1  1574726400  \n",
       "1194          2  1574812800  \n",
       "1195          3  1574899200  \n",
       "\n",
       "[1106 rows x 19 columns]"
      ]
     },
     "execution_count": 7,
     "metadata": {},
     "output_type": "execute_result"
    }
   ],
   "source": [
    "# 增加日期特征\n",
    "from fastai.tabular import *\n",
    "add_datepart(df, \"date\", drop=False)\n",
    "seq_length = 90\n",
    "train_df = df[seq_length:-seq_length]\n",
    "# 丢掉不重要的特征\n",
    "train_df = train_df.drop(['date','code','Is_month_end', 'Is_month_start', 'Is_quarter_end',\n",
    "                          'Is_quarter_start', 'Is_year_end', 'Is_year_start','Dayofyear'],axis=1)\n",
    "train_df"
   ]
  },
  {
   "cell_type": "markdown",
   "metadata": {},
   "source": [
    "接下来我们为数据生成序列，用前`seq_length`天的信息作为输入序列，后1天的股市起伏`buy_flag`作为标签"
   ]
  },
  {
   "cell_type": "code",
   "execution_count": 8,
   "metadata": {},
   "outputs": [],
   "source": [
    "def sliding_windows(data, label, seq_length):\n",
    "    x = []\n",
    "    y = []\n",
    "\n",
    "    for i in range(len(data)-seq_length-1):\n",
    "        _x = data[i:(i+seq_length)]\n",
    "        _y = label[i+seq_length]\n",
    "        x.append(_x)\n",
    "        y.append(_y)\n",
    "\n",
    "    return np.array(x),np.array(y)"
   ]
  },
  {
   "cell_type": "markdown",
   "metadata": {},
   "source": [
    "在 Pytorch 中，LSTM 默认的输入顺序是 `seq_length*batch_size*feature`，而我们通常生成的序列是`batch_size*seq_length*feature`，因此需要交换下输入数据纬度。"
   ]
  },
  {
   "cell_type": "code",
   "execution_count": 9,
   "metadata": {
    "colab": {},
    "colab_type": "code",
    "id": "rTfQj849ciMh"
   },
   "outputs": [
    {
     "data": {
      "text/plain": [
       "(torch.Size([90, 812, 18]), torch.Size([812, 1]))"
      ]
     },
     "execution_count": 9,
     "metadata": {},
     "output_type": "execute_result"
    }
   ],
   "source": [
    "from sklearn.preprocessing import MinMaxScaler\n",
    "import numpy as np\n",
    "\n",
    "y_scaler = MinMaxScaler()\n",
    "x_scaler = MinMaxScaler()\n",
    "\n",
    "#converting dataset into x_train and y_train\n",
    "X = train_df.drop(['buy_flag'],axis=1).values\n",
    "X = x_scaler.fit_transform(X)\n",
    "Y = train_df['buy_flag']\n",
    "Y = np.array(Y).reshape(-1,1)\n",
    "Y = y_scaler.fit_transform(Y)\n",
    "\n",
    "x, y = sliding_windows(X, Y, seq_length)\n",
    "\n",
    "y_train,y_test = y[:int(y.shape[0]*0.8)],y[int(y.shape[0]*0.8):]\n",
    "x_train,x_test = x[:int(x.shape[0]*0.8)],x[int(x.shape[0]*0.8):]\n",
    "\n",
    "# lstm: seq, batch, feature\n",
    "device = torch.device(\"cuda:0\" if torch.cuda.is_available() else \"cpu\")\n",
    "\n",
    "dataX = torch.Tensor(x.transpose(1,0,2))\n",
    "dataY = torch.Tensor(y)\n",
    "trainX = torch.Tensor(x_train.transpose(1,0,2))\n",
    "trainY = torch.Tensor(y_train)\n",
    "testX = torch.Tensor(x_test.transpose(1,0,2))\n",
    "testY = torch.Tensor(y_test)\n",
    "trainX.shape, trainY.shape"
   ]
  },
  {
   "cell_type": "markdown",
   "metadata": {
    "colab_type": "text",
    "id": "AdxqhZhsveTO"
   },
   "source": [
    "## 建立 LSTM 模型"
   ]
  },
  {
   "cell_type": "code",
   "execution_count": 10,
   "metadata": {
    "colab": {},
    "colab_type": "code",
    "id": "G7YiZPhrcX2k"
   },
   "outputs": [],
   "source": [
    "class LSTM(nn.Module):\n",
    "\n",
    "    def __init__(self, num_classes, input_size, hidden_size, num_layers):\n",
    "        super(LSTM, self).__init__()\n",
    "        \n",
    "        self.num_classes = num_classes\n",
    "        self.num_layers = num_layers\n",
    "        self.input_size = input_size\n",
    "        self.hidden_size = hidden_size\n",
    "        self.seq_length = seq_length\n",
    "        \n",
    "        self.lstm = nn.LSTM(input_size=input_size, hidden_size=hidden_size,\n",
    "                            num_layers=num_layers)\n",
    "        \n",
    "        self.fc = nn.Linear(hidden_size, num_classes)\n",
    "        \n",
    "\n",
    "    def forward(self, x):\n",
    "        # 不手动指定 h 和 c 的话，默认就是 0\n",
    "#         h_0 = torch.zeros(\n",
    "#             self.num_layers, x.size(0), self.hidden_size)\n",
    "        \n",
    "#         c_0 = torch.zeros(\n",
    "#             self.num_layers, x.size(0), self.hidden_size)\n",
    "        \n",
    "        # Propagate input through LSTM\n",
    "#         ula, (h_out, _) = self.lstm(x, (h_0, c_0))\n",
    "        ula, (h_out, _) = self.lstm(x)\n",
    "        \n",
    "        h_out = h_out.view(-1, self.hidden_size)\n",
    "        \n",
    "        out = self.fc(h_out)\n",
    "        \n",
    "        return out"
   ]
  },
  {
   "cell_type": "markdown",
   "metadata": {
    "colab_type": "text",
    "id": "qtAlB3X3vwED"
   },
   "source": [
    "## 训练模型"
   ]
  },
  {
   "cell_type": "code",
   "execution_count": 11,
   "metadata": {
    "colab": {
     "base_uri": "https://localhost:8080/",
     "height": 527
    },
    "colab_type": "code",
    "id": "KiAGjslKcgal",
    "outputId": "b58ff8ad-50d9-4a01-a906-ac39b6edc939"
   },
   "outputs": [
    {
     "name": "stdout",
     "output_type": "stream",
     "text": [
      "Epoch: 0, loss: 0.22898\n",
      "Epoch: 1, loss: 0.17325\n",
      "Epoch: 2, loss: 0.14031\n",
      "Epoch: 3, loss: 0.13380\n",
      "Epoch: 4, loss: 0.14764\n",
      "Epoch: 5, loss: 0.14571\n",
      "Epoch: 6, loss: 0.13712\n",
      "Epoch: 7, loss: 0.13153\n",
      "Epoch: 8, loss: 0.12988\n",
      "Epoch: 9, loss: 0.13052\n",
      "Epoch: 10, loss: 0.13184\n",
      "Epoch: 11, loss: 0.13284\n",
      "Epoch: 12, loss: 0.13308\n",
      "Epoch: 13, loss: 0.13251\n",
      "Epoch: 14, loss: 0.13131\n"
     ]
    }
   ],
   "source": [
    "num_epochs = 15\n",
    "learning_rate = 0.001\n",
    "\n",
    "input_size = train_df.shape[1]-1 # The number of expected features in the input x\n",
    "hidden_size = 300 # The number of features in the hidden state h\n",
    "num_layers = 1 # Number of recurrent layers.\n",
    "\n",
    "num_classes = 1 # output\n",
    "\n",
    "lstm = LSTM(num_classes, input_size, hidden_size, num_layers)\n",
    "\n",
    "criterion = torch.nn.MSELoss()    # mean-squared error for regression\n",
    "optimizer = torch.optim.Adam(lstm.parameters(), lr=learning_rate)\n",
    "#optimizer = torch.optim.SGD(lstm.parameters(), lr=learning_rate)\n",
    "\n",
    "# Train the model\n",
    "lstm.train()\n",
    "lstm.to(device)\n",
    "trainX = trainX.to(device)\n",
    "for epoch in range(num_epochs):\n",
    "    optimizer.zero_grad()\n",
    "    outputs = lstm(trainX)\n",
    "    \n",
    "    # obtain the loss function\n",
    "    loss = criterion(outputs, trainY)\n",
    "    \n",
    "    loss.backward()\n",
    "    \n",
    "    optimizer.step()\n",
    "    print(\"Epoch: %d, loss: %1.5f\" % (epoch, loss.item()))"
   ]
  },
  {
   "cell_type": "markdown",
   "metadata": {},
   "source": [
    "## 查看训练效果"
   ]
  },
  {
   "cell_type": "code",
   "execution_count": 12,
   "metadata": {
    "colab": {
     "base_uri": "https://localhost:8080/",
     "height": 542
    },
    "colab_type": "code",
    "id": "fv6zIlRS4Pe-",
    "outputId": "7f01c480-ea9b-4f02-b5cb-6caa2133609e"
   },
   "outputs": [
    {
     "data": {
      "text/html": [
       "\n",
       "        <iframe\n",
       "            width=\"100%\"\n",
       "            height=\"525px\"\n",
       "            src=\"https://plotly.com/~invisprints/23.embed\"\n",
       "            frameborder=\"0\"\n",
       "            allowfullscreen\n",
       "        ></iframe>\n",
       "        "
      ],
      "text/plain": [
       "<IPython.lib.display.IFrame at 0x1a30a2cd50>"
      ]
     },
     "execution_count": 12,
     "metadata": {},
     "output_type": "execute_result"
    }
   ],
   "source": [
    "# 将数据集中的所有切片以序列的方式进行预测，查看预测结果与真实值的拟合情况。\n",
    "import plotly.graph_objects as go\n",
    "\n",
    "lstm.eval()\n",
    "lstm.to(torch.device('cpu'))\n",
    "with torch.no_grad():\n",
    "    dataY_pred = lstm(dataX)\n",
    "\n",
    "dataY_pred = dataY_pred.data.numpy()\n",
    "dataY_truth = dataY.data.numpy()\n",
    "\n",
    "dataY_pred = y_scaler.inverse_transform(dataY_pred)\n",
    "dataY_truth = y_scaler.inverse_transform(dataY_truth)\n",
    "\n",
    "\n",
    "fig = go.Figure(go.Scatter(y=dataY_truth.flatten(),name='Ground Truth'))\n",
    "fig.add_trace(go.Scatter(y=dataY_pred.flatten(),name='Predicted'))\n",
    "\n",
    "fig.update_layout(\n",
    "    shapes = [dict(\n",
    "        x0=len(x_train), x1=len(x_train), y0=0, y1=1, xref='x', yref='paper',\n",
    "        line_width=2)], #在图上划分训练集和测试集\n",
    "    xaxis_rangeslider_visible=True,\n",
    ")\n",
    "py.iplot(fig, filename=\"stock-result\")"
   ]
  },
  {
   "cell_type": "markdown",
   "metadata": {},
   "source": [
    "发现预测值基本取标签的平均值，也就是说它并不会根据输入调整输出，而是直接输出标签的平均值，没有任何参考价值"
   ]
  },
  {
   "cell_type": "code",
   "execution_count": 13,
   "metadata": {
    "colab": {
     "base_uri": "https://localhost:8080/",
     "height": 238
    },
    "colab_type": "code",
    "id": "nTIhtTt2CwYL",
    "outputId": "3f4b27ea-9677-496c-9b6d-2d8986bb45a4"
   },
   "outputs": [
    {
     "name": "stdout",
     "output_type": "stream",
     "text": [
      "预测值:[[0.288591]], 实际值:tensor([[1.]])\n"
     ]
    }
   ],
   "source": [
    "#随机从测试集中抽取一个单一数据切片进行预测\n",
    "import random\n",
    "i = random.randint(0,testX.shape[1])\n",
    "with torch.no_grad():\n",
    "    y_pred = lstm(testX[:,i,::].reshape(testX.shape[0],1,testX.shape[2]))\n",
    "print('预测值:{0}, 实际值:{1}'.format(y_pred.data.numpy(),testY[i].reshape(-1,1)))"
   ]
  },
  {
   "cell_type": "markdown",
   "metadata": {},
   "source": [
    "## 参考资料\n",
    "[超生动图解LSTM和GPU，一文读懂循环神经网络！](http://mp.weixin.qq.com/s?__biz=MzIxODM4MjA5MA==&mid=2247492111&idx=2&sn=4cfd26f8b82433a8604e8051955a0b87&chksm=97e9c86aa09e417c7319f999d09750c68c719c0f579dbd757da3cebef6094fe1a86f5b50b21b&mpshare=1&scene=1&srcid=0125zRVoyCSWA6vpERxXS2EP&sharer_sharetime=1579934883123&sharer_shareid=0a6ce93be9f251e3983f43be7482e84b#rd)\n",
    "\n",
    "[LSTM细节分析理解（pytorch版）](https://zhuanlan.zhihu.com/p/79064602)"
   ]
  }
 ],
 "metadata": {
  "kernelspec": {
   "display_name": "stock",
   "language": "python",
   "name": "stock"
  },
  "language_info": {
   "codemirror_mode": {
    "name": "ipython",
    "version": 3
   },
   "file_extension": ".py",
   "mimetype": "text/x-python",
   "name": "python",
   "nbconvert_exporter": "python",
   "pygments_lexer": "ipython3",
   "version": "3.7.7"
  }
 },
 "nbformat": 4,
 "nbformat_minor": 4
}
