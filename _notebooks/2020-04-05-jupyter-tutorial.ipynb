{
 "cells": [
  {
   "cell_type": "markdown",
   "metadata": {
    "collapsed": true,
    "pycharm": {
     "name": "#%% md\n"
    }
   },
   "source": [
    "# Jupyter 博文发布教程\n",
    "> 如何在 fastpages 上发布 ipynb 格式的博文\n",
    "\n",
    "- toc:true\n",
    "- branch: master\n",
    "- badges: true\n",
    "- comments: true\n",
    "- categories: [jupyter]"
   ]
  },
  {
   "cell_type": "markdown",
   "source": [
    "## 基本设置\n",
    "fastpages 会将存放在 `_notebooks` 中的 jupyter notebook 自动转换成博文，因此你应该将所有的 jupyter notebook 放在该文件夹下。\n",
    "fastpages 会将存放在 `_post` 文件夹内的 markdown 文章和 `_word` 中的 word 文章自动转换成博文。因此你的博文应该存放在这三个文件夹内。\n",
    "\n",
    "所有的博文遵循同一套命名规范，即 `YYYY-MM-DD-filename.ext`，如本篇 notebook 教程的文件名为 `2020-04-04-jupyter-tutorial.ipynb`"
   ],
   "metadata": {
    "collapsed": false,
    "pycharm": {
     "name": "#%% md\n"
    }
   }
  },
  {
   "cell_type": "markdown",
   "source": [
    "## FrontMatter\n",
    "FrontMatter 位于每篇 notebook 中的第一个 cell 中，其作用是每篇博文的配置文件，它控制着每篇博文该如何展现内容。\n",
    "\n",
    "```markdown\n",
    "# Title\n",
    "> Awesome summary\n",
    "\n",
    "- toc:true\n",
    "- branch: master\n",
    "- badges: true\n",
    "- comments: true\n",
    "- author: Hamel Husain & Jeremy Howard\n",
    "- categories: [fastpages, jupyter]\n",
    "\n",
    "```\n",
    "\n",
    "有关 FrontMatter 的详细配置和说明可以参考 [fastpages 说明](https://github.com/fastai/fastpages#customizing-blog-posts-with-front-matter)\n"
   ],
   "metadata": {
    "collapsed": false
   }
  },
  {
   "cell_type": "markdown",
   "source": [
    "## 格式\n",
    "本文仅介绍 fapages 中的一些亮点功能，关于 jupyter notebook 的使用请自行寻找相关教程\n",
    "\n",
    "在 cell 开头如果加上 `#hide` ，fastpages 会隐藏该 cell 的输入和输出\n",
    "在 cell 开头如果加上 `#hide_input` ，fastpages 会隐藏该 cell 的输入"
   ],
   "metadata": {
    "collapsed": false
   }
  },
  {
   "cell_type": "code",
   "execution_count": null,
   "outputs": [],
   "source": [
    "#hide_input\n",
    "print('The comment #hide_input was used to hide the code that produced this.')\n"
   ],
   "metadata": {
    "collapsed": false,
    "pycharm": {
     "name": "#%%\n"
    }
   }
  },
  {
   "cell_type": "markdown",
   "source": [
    "在 cell 开头如果加上 `#collapse-hide` ，fastpages会默认折叠该细胞，但可以手动展开\n",
    "在 cell 开头如果加上 `#collapse-show` ，fastpages会默认展开该细胞，但可以手动折叠"
   ],
   "metadata": {
    "collapsed": false
   }
  },
  {
   "cell_type": "code",
   "execution_count": null,
   "outputs": [],
   "source": [
    "#collapse-hide\n",
    "import pandas as pd\n",
    "import altair as alt\n"
   ],
   "metadata": {
    "collapsed": false,
    "pycharm": {
     "name": "#%%\n"
    }
   }
  },
  {
   "cell_type": "code",
   "execution_count": null,
   "outputs": [],
   "source": [
    "#collapse-show\n",
    "cars = 'https://vega.github.io/vega-datasets/data/cars.json'\n",
    "movies = 'https://vega.github.io/vega-datasets/data/movies.json'\n",
    "sp500 = 'https://vega.github.io/vega-datasets/data/sp500.csv'\n",
    "stocks = 'https://vega.github.io/vega-datasets/data/stocks.csv'\n",
    "flights = 'https://vega.github.io/vega-datasets/data/flights-5k.json'\n",
    "\n"
   ],
   "metadata": {
    "collapsed": false,
    "pycharm": {
     "name": "#%%\n"
    }
   }
  }
 ],
 "metadata": {
  "kernelspec": {
   "display_name": "Python 3",
   "language": "python",
   "name": "python3"
  },
  "language_info": {
   "codemirror_mode": {
    "name": "ipython",
    "version": 2
   },
   "file_extension": ".py",
   "mimetype": "text/x-python",
   "name": "python",
   "nbconvert_exporter": "python",
   "pygments_lexer": "ipython2",
   "version": "2.7.6"
  },
  "pycharm": {
   "stem_cell": {
    "cell_type": "raw",
    "source": [],
    "metadata": {
     "collapsed": false
    }
   }
  }
 },
 "nbformat": 4,
 "nbformat_minor": 0
}