{
  "cells": [
    {
      "cell_type": "markdown",
      "source": [
        "# fastpages 介绍 & 搭建教程\n",
        "> fastpages 是一个在 GitHub 上搭建博客的平台框架。fastpages 易于使用且对 Jupyter Notebook 友好。\n",
        "\n",
        "- toc: true \n",
        "- badges: true\n",
        "- comments: true\n",
        "- image: images/diagram.png\n",
        "- categories: [fastpages, jupyter]"
      ],
      "metadata": {}
    },
    {
      "cell_type": "markdown",
      "source": [
        "![](https://github.com/fastai/fastpages/raw/master/images/diagram.png \"https://github.com/fastai/fastpages\")\n",
        "\n",
        "本文参考[Introducing fastpages](https://fastpages.fast.ai/fastpages/jupyter/2020/02/21/introducing-fastpages.html)，并从中节选部分转述成中文。感谢 Jeremy Howard 和 Hamel Husain 的辛苦付出！\n",
        "\n",
        "`fastpages` 是一个能让你在 GitHub 上创建免费博客的平台，它没有广告且附带许多其它实用功能。\n",
        "\n",
        "- 能直接将[Jupyter Notebooks](https://jupyter.org/)转换成博文，包含输入和输出代码，且输出代码可以是可交互的。可以查看 Scott Hawley 写的这篇[范例博文](https://drscotthawley.github.io/devblog3/2019/02/08/My-1st-NN-Part-3-Multi-Layer-and-Backprop.html)以了解详情。fastpages支持Notebook的如下特性：\n",
        "    - [Altair](https://altair-viz.github.io/)创建的交互可视化图形\n",
        "    - 隐藏或显示输入输出代码\n",
        "    - 折叠code cell\n",
        "    - 通过markdown格式定义文章标题、摘要和其它元信息\n",
        "    - 跳转到 [Colab](https://colab.research.google.com/) 和 GitHub 的标签栏\n",
        "- 转换 Microsoft Word 到博文\n",
        "- 使用GitHub内置的markdown编辑器在线创建或编辑 [Markdown](https://guides.github.com/features/mastering-markdown/) 博文\n",
        "- 内嵌 Twitter 卡片和 YouTube 视频\n",
        "- 供分类查找的标签系统\n",
        "- [更多……](https://github.com/fastai/fastpages)\n",
        "\n",
        "[fastpages](https://github.com/fastai/fastpages) 依赖 Github pages 托管和 [Github Actions](https://github.com/features/actions) 搭建自动搭建博客平台。通常初始化只需数分钟，并不需要相应的专业知识。对于普通人员，你只需将你的Jupyter notebook, Word 文档或者 markdown 文件保存在相应目录即可，剩下的就由 fastpages 帮你自动完成。这篇文章就是由 Jupyter Notebook 编写而成，你可以点击博文开头的 View on GitHub 查看\n"
      ],
      "metadata": {}
    },
    {
      "cell_type": "markdown",
      "source": [
        "## Fastpages 搭建（初始化）\n",
        "\n",
        "fastpages[初始化过程](https://github.com/fastai/fastpages#setup-instructions) 基本由 GitHub Actions 自动完成。你只需在[fastpages github](https://github.com/fastai/fastpages#pinning-a-blog-post)上点击 use this temple。在模版建立完成后，大约 30s 就会出现一条 pull requests。按照上面的提示配置你的博客。自动生成的 pull request 长下面这样，上面有英文指导步骤，一步一步按着做即可。 \n",
        "\n",
        "![Imgur](https://i.imgur.com/JhkIip8.png)\n"
      ],
      "metadata": {}
    },
    {
      "cell_type": "markdown",
      "source": [
        "你只需要按部就班完成 pull request 上要求的操作，等待不到半小时即可拥有你自己的博客平台。整个初始化过程不到一小时。\n",
        "\n",
        "下面参考[Jupyter 博文发布教程](https://invisprints.github.io/blog/jupyter/2020/04/05/jupyter-tutorial.html)和[Markdown 博文发布教程](https://invisprints.github.io/blog/markdown/2020/04/04/markdown-tutorial.html)开始你的第一篇博文吧！"
      ],
      "metadata": {}
    }
  ],
  "metadata": {
    "kernelspec": {
      "display_name": "Python 3",
      "language": "python",
      "name": "python3"
    },
    "language_info": {
      "name": "python",
      "version": "3.7.3",
      "mimetype": "text/x-python",
      "codemirror_mode": {
        "name": "ipython",
        "version": 3
      },
      "pygments_lexer": "ipython3",
      "nbconvert_exporter": "python",
      "file_extension": ".py"
    },
    "nteract": {
      "version": "0.22.4"
    }
  },
  "nbformat": 4,
  "nbformat_minor": 2
}